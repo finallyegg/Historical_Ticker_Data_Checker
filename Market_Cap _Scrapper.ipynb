{
 "cells": [
  {
   "cell_type": "code",
   "execution_count": 69,
   "metadata": {},
   "outputs": [],
   "source": [
    "import bs4 as bs\n",
    "import requests\n",
    "\n",
    "# GET SP500 Companies list, stored in tickers\n",
    "resp = requests.get('http://en.wikipedia.org/wiki/List_of_S%26P_500_companies')\n",
    "soup = bs.BeautifulSoup(resp.text, 'html')\n",
    "table = soup.find('table', {'class': 'wikitable sortable','id':'constituents'})\n",
    "tickers = []\n",
    "for row in table.findAll('tr')[1:]:\n",
    "    ticker = row.findAll('td')[0].text\n",
    "    tickers.append(ticker)\n",
    "\n",
    "tickers = [s.replace('\\n', '') for s in tickers]\n",
    "tickers.sort()\n"
   ]
  },
  {
   "cell_type": "code",
   "execution_count": 80,
   "metadata": {},
   "outputs": [
    {
     "output_type": "execute_result",
     "data": {
      "text/plain": "['A',\n 'AAL',\n 'AAP',\n 'AAPL',\n 'ABBV',\n 'ABC',\n 'ABMD',\n 'ABT',\n 'ACN',\n 'ADBE',\n 'ADI',\n 'ADM',\n 'ADP',\n 'ADSK',\n 'AEE',\n 'AEP',\n 'AES',\n 'AFL',\n 'AIG',\n 'AIV',\n 'AIZ',\n 'AJG',\n 'AKAM',\n 'ALB',\n 'ALGN',\n 'ALK',\n 'ALL',\n 'ALLE',\n 'ALXN',\n 'AMAT',\n 'AMCR',\n 'AMD',\n 'AME',\n 'AMGN',\n 'AMP',\n 'AMT',\n 'AMZN',\n 'ANET',\n 'ANSS',\n 'ANTM',\n 'AON',\n 'AOS',\n 'APA',\n 'APD',\n 'APH',\n 'APTV',\n 'ARE',\n 'ATO',\n 'ATVI',\n 'AVB',\n 'AVGO',\n 'AVY',\n 'AWK',\n 'AXP',\n 'AZO',\n 'BA',\n 'BAC',\n 'BAX',\n 'BBY',\n 'BDX',\n 'BEN',\n 'BF.B',\n 'BIIB',\n 'BIO',\n 'BK',\n 'BKNG',\n 'BKR',\n 'BLK',\n 'BLL',\n 'BMY',\n 'BR',\n 'BRK.B',\n 'BSX',\n 'BWA',\n 'BXP',\n 'C',\n 'CAG',\n 'CAH',\n 'CARR',\n 'CAT',\n 'CB',\n 'CBOE',\n 'CBRE',\n 'CCI',\n 'CCL',\n 'CDNS',\n 'CDW',\n 'CE',\n 'CERN',\n 'CF',\n 'CFG',\n 'CHD',\n 'CHRW',\n 'CHTR',\n 'CI',\n 'CINF',\n 'CL',\n 'CLX',\n 'CMA',\n 'CMCSA',\n 'CME',\n 'CMG',\n 'CMI',\n 'CMS',\n 'CNC',\n 'CNP',\n 'COF',\n 'COG',\n 'COO',\n 'COP',\n 'COST',\n 'COTY',\n 'CPB',\n 'CPRT',\n 'CRM',\n 'CSCO',\n 'CSX',\n 'CTAS',\n 'CTL',\n 'CTSH',\n 'CTVA',\n 'CTXS',\n 'CVS',\n 'CVX',\n 'CXO',\n 'D',\n 'DAL',\n 'DD',\n 'DE',\n 'DFS',\n 'DG',\n 'DGX',\n 'DHI',\n 'DHR',\n 'DIS',\n 'DISCA',\n 'DISCK',\n 'DISH',\n 'DLR',\n 'DLTR',\n 'DOV',\n 'DOW',\n 'DPZ',\n 'DRE',\n 'DRI',\n 'DTE',\n 'DUK',\n 'DVA',\n 'DVN',\n 'DXC',\n 'DXCM',\n 'EA',\n 'EBAY',\n 'ECL',\n 'ED',\n 'EFX',\n 'EIX',\n 'EL',\n 'EMN',\n 'EMR',\n 'EOG',\n 'EQIX',\n 'EQR',\n 'ES',\n 'ESS',\n 'ETFC',\n 'ETN',\n 'ETR',\n 'EVRG',\n 'EW',\n 'EXC',\n 'EXPD',\n 'EXPE',\n 'EXR',\n 'F',\n 'FANG',\n 'FAST',\n 'FB',\n 'FBHS',\n 'FCX',\n 'FDX',\n 'FE',\n 'FFIV',\n 'FIS',\n 'FISV',\n 'FITB',\n 'FLIR',\n 'FLS',\n 'FLT',\n 'FMC',\n 'FOX',\n 'FOXA',\n 'FRC',\n 'FRT',\n 'FTI',\n 'FTNT',\n 'FTV',\n 'GD',\n 'GE',\n 'GILD',\n 'GIS',\n 'GL',\n 'GLW',\n 'GM',\n 'GOOG',\n 'GOOGL',\n 'GPC',\n 'GPN',\n 'GPS',\n 'GRMN',\n 'GS',\n 'GWW',\n 'HAL',\n 'HAS',\n 'HBAN',\n 'HBI',\n 'HCA',\n 'HD',\n 'HES',\n 'HFC',\n 'HIG',\n 'HII',\n 'HLT',\n 'HOLX',\n 'HON',\n 'HPE',\n 'HPQ',\n 'HRB',\n 'HRL',\n 'HSIC',\n 'HST',\n 'HSY',\n 'HUM',\n 'HWM',\n 'IBM',\n 'ICE',\n 'IDXX',\n 'IEX',\n 'IFF',\n 'ILMN',\n 'INCY',\n 'INFO',\n 'INTC',\n 'INTU',\n 'IP',\n 'IPG',\n 'IPGP',\n 'IQV',\n 'IR',\n 'IRM',\n 'ISRG',\n 'IT',\n 'ITW',\n 'IVZ',\n 'J',\n 'JBHT',\n 'JCI',\n 'JKHY',\n 'JNJ',\n 'JNPR',\n 'JPM',\n 'K',\n 'KEY',\n 'KEYS',\n 'KHC',\n 'KIM',\n 'KLAC',\n 'KMB',\n 'KMI',\n 'KMX',\n 'KO',\n 'KR',\n 'KSS',\n 'KSU',\n 'L',\n 'LB',\n 'LDOS',\n 'LEG',\n 'LEN',\n 'LH',\n 'LHX',\n 'LIN',\n 'LKQ',\n 'LLY',\n 'LMT',\n 'LNC',\n 'LNT',\n 'LOW',\n 'LRCX',\n 'LUV',\n 'LVS',\n 'LW',\n 'LYB',\n 'LYV',\n 'MA',\n 'MAA',\n 'MAR',\n 'MAS',\n 'MCD',\n 'MCHP',\n 'MCK',\n 'MCO',\n 'MDLZ',\n 'MDT',\n 'MET',\n 'MGM',\n 'MHK',\n 'MKC',\n 'MKTX',\n 'MLM',\n 'MMC',\n 'MMM',\n 'MNST',\n 'MO',\n 'MOS',\n 'MPC',\n 'MRK',\n 'MRO',\n 'MS',\n 'MSCI',\n 'MSFT',\n 'MSI',\n 'MTB',\n 'MTD',\n 'MU',\n 'MXIM',\n 'MYL',\n 'NBL',\n 'NCLH',\n 'NDAQ',\n 'NEE',\n 'NEM',\n 'NFLX',\n 'NI',\n 'NKE',\n 'NLOK',\n 'NLSN',\n 'NOC',\n 'NOV',\n 'NOW',\n 'NRG',\n 'NSC',\n 'NTAP',\n 'NTRS',\n 'NUE',\n 'NVDA',\n 'NVR',\n 'NWL',\n 'NWS',\n 'NWSA',\n 'O',\n 'ODFL',\n 'OKE',\n 'OMC',\n 'ORCL',\n 'ORLY',\n 'OTIS',\n 'OXY',\n 'PAYC',\n 'PAYX',\n 'PBCT',\n 'PCAR',\n 'PEAK',\n 'PEG',\n 'PEP',\n 'PFE',\n 'PFG',\n 'PG',\n 'PGR',\n 'PH',\n 'PHM',\n 'PKG',\n 'PKI',\n 'PLD',\n 'PM',\n 'PNC',\n 'PNR',\n 'PNW',\n 'PPG',\n 'PPL',\n 'PRGO',\n 'PRU',\n 'PSA',\n 'PSX',\n 'PVH',\n 'PWR',\n 'PXD',\n 'PYPL',\n 'QCOM',\n 'QRVO',\n 'RCL',\n 'RE',\n 'REG',\n 'REGN',\n 'RF',\n 'RHI',\n 'RJF',\n 'RL',\n 'RMD',\n 'ROK',\n 'ROL',\n 'ROP',\n 'ROST',\n 'RSG',\n 'RTX',\n 'SBAC',\n 'SBUX',\n 'SCHW',\n 'SEE',\n 'SHW',\n 'SIVB',\n 'SJM',\n 'SLB',\n 'SLG',\n 'SNA',\n 'SNPS',\n 'SO',\n 'SPG',\n 'SPGI',\n 'SRE',\n 'STE',\n 'STT',\n 'STX',\n 'STZ',\n 'SWK',\n 'SWKS',\n 'SYF',\n 'SYK',\n 'SYY',\n 'T',\n 'TAP',\n 'TDG',\n 'TDY',\n 'TEL',\n 'TFC',\n 'TFX',\n 'TGT',\n 'TIF',\n 'TJX',\n 'TMO',\n 'TMUS',\n 'TPR',\n 'TROW',\n 'TRV',\n 'TSCO',\n 'TSN',\n 'TT',\n 'TTWO',\n 'TWTR',\n 'TXN',\n 'TXT',\n 'TYL',\n 'UA',\n 'UAA',\n 'UAL',\n 'UDR',\n 'UHS',\n 'ULTA',\n 'UNH',\n 'UNM',\n 'UNP',\n 'UPS',\n 'URI',\n 'USB',\n 'V',\n 'VAR',\n 'VFC',\n 'VIAC',\n 'VLO',\n 'VMC',\n 'VNO',\n 'VRSK',\n 'VRSN',\n 'VRTX',\n 'VTR',\n 'VZ',\n 'WAB',\n 'WAT',\n 'WBA',\n 'WDC',\n 'WEC',\n 'WELL',\n 'WFC',\n 'WHR',\n 'WLTW',\n 'WM',\n 'WMB',\n 'WMT',\n 'WRB',\n 'WRK',\n 'WST',\n 'WU',\n 'WY',\n 'WYNN',\n 'XEL',\n 'XLNX',\n 'XOM',\n 'XRAY',\n 'XRX',\n 'XYL',\n 'YUM',\n 'ZBH',\n 'ZBRA',\n 'ZION',\n 'ZTS']"
     },
     "metadata": {},
     "execution_count": 80
    }
   ],
   "source": [
    "tickers"
   ]
  },
  {
   "cell_type": "code",
   "execution_count": 95,
   "metadata": {
    "tags": []
   },
   "outputs": [],
   "source": [
    "import time\n",
    "import ciso8601\n",
    "import re\n",
    "# import progressbar\n",
    "d = dict()\n",
    "d['Ticker'] = []\n",
    "d['date'] = []\n",
    "d['marketCap'] = []\n",
    "bar = progressbar.ProgressBar(maxval=progressbar.UnknownLength)\n",
    "month = {}\n",
    "month['Jan'] = '01'\n",
    "month['Feb'] = '02'\n",
    "month['Mar'] = '03'\n",
    "month['April'] = '04'\n",
    "month['May'] = '05'\n",
    "month['June'] = '06'\n",
    "month['July'] = '07'\n",
    "month['Aug'] = '08'\n",
    "month['Sept'] = '09'\n",
    "month['Oct'] = '10'\n",
    "month['Nov'] = '11'\n",
    "month['Dec'] = '12'\n",
    "for i in range(len(tickers)):\n",
    "    # if you want get all SP500 DATA, comment next two lines out\n",
    "    if (tickers[i] != 'UA'):    # Change Ticker Tag\n",
    "        continue\n",
    "    resp = requests.get('https://ycharts.com/companies/' + tickers[i] + '/market_cap')\n",
    "    soup = bs.BeautifulSoup(resp.text,\"html\")\n",
    "    for table in soup.find_all('table',{'class': 'histDataTable'}):\n",
    "        for row in table.find_all('tr')[1:]:\n",
    "            hy = row.find_all('td')\n",
    "            date = hy[0].text\n",
    "            ticker = hy[1].text\n",
    "            \n",
    "            m = re.search('\\n                \\n                    (.+?)\\n                \\n',ticker)\n",
    "            if m:\n",
    "                d['Ticker'].append(tickers[i])\n",
    "                date = date.replace(\".\",\"\")\n",
    "                date = date.replace(\",\",\"\")\n",
    "                date = date.split( )\n",
    "                separator = '-'\n",
    "                date[0] = month[date[0]]\n",
    "                date[0] , date[2] = date[2], date[0]\n",
    "                date[1] , date[2] = date[2], date[1]\n",
    "                date = separator.join(date)\n",
    "                d['date'].append(date)\n",
    "                timestamp = int(time.mktime(datetime.datetime.strptime(date, \"%Y-%m-%d\").timetuple()))\n",
    "                marketCap = m.group(1)\n",
    "                d['marketCap'].append(marketCap)\n",
    "    # bar.update(i)"
   ]
  },
  {
   "cell_type": "code",
   "execution_count": 96,
   "metadata": {},
   "outputs": [],
   "source": [
    "import pandas as pd"
   ]
  },
  {
   "cell_type": "code",
   "execution_count": 97,
   "metadata": {},
   "outputs": [
    {
     "output_type": "execute_result",
     "data": {
      "text/plain": "   Ticker        date marketCap\n0      UA  2020-09-21    4.249B\n1      UA  2020-09-18    4.572B\n2      UA  2020-09-17    4.745B\n3      UA  2020-09-16    4.863B\n4      UA  2020-09-15    4.658B\n5      UA  2020-09-14    4.681B\n6      UA  2020-09-11    4.499B\n7      UA  2020-09-10    4.309B\n8      UA   2020-09-9    4.254B\n9      UA   2020-09-8    4.427B\n10     UA   2020-09-4    4.236B\n11     UA   2020-09-3    4.263B\n12     UA   2020-09-2    4.263B\n13     UA   2020-09-1    4.168B\n14     UA  2020-08-31    4.022B\n15     UA  2020-08-28    4.154B\n16     UA  2020-08-27    4.072B\n17     UA  2020-08-26    4.040B\n18     UA  2020-08-25    4.140B\n19     UA  2020-08-24    4.177B\n20     UA  2020-08-21    3.986B\n21     UA  2020-08-20    3.995B\n22     UA  2020-08-19    4.099B\n23     UA  2020-08-18    4.195B\n24     UA  2020-08-17    4.277B\n25     UA  2020-08-14    4.363B\n26     UA  2020-08-13    4.390B\n27     UA  2020-08-12    4.440B\n28     UA  2020-08-11    4.454B\n29     UA  2020-08-10    4.363B\n30     UA   2020-08-7    4.181B\n31     UA   2020-08-6    4.109B\n32     UA   2020-08-5    4.290B\n33     UA   2020-08-4    4.063B\n34     UA   2020-08-3    3.995B\n35     UA  2020-07-31    4.313B\n36     UA  2020-07-30    4.624B\n37     UA  2020-07-29    4.693B\n38     UA  2020-07-28    4.556B\n39     UA  2020-07-27    4.520B\n40     UA  2020-07-24    4.465B\n41     UA  2020-07-23    4.443B\n42     UA  2020-07-22    4.279B\n43     UA  2020-07-21    4.288B\n44     UA  2020-07-20    4.007B\n45     UA  2020-07-17    4.147B\n46     UA  2020-07-16    4.175B\n47     UA  2020-07-15    4.170B\n48     UA  2020-07-14    3.857B\n49     UA  2020-07-13    3.843B\n50     UA  2020-07-10    3.920B",
      "text/html": "<div>\n<style scoped>\n    .dataframe tbody tr th:only-of-type {\n        vertical-align: middle;\n    }\n\n    .dataframe tbody tr th {\n        vertical-align: top;\n    }\n\n    .dataframe thead th {\n        text-align: right;\n    }\n</style>\n<table border=\"1\" class=\"dataframe\">\n  <thead>\n    <tr style=\"text-align: right;\">\n      <th></th>\n      <th>Ticker</th>\n      <th>date</th>\n      <th>marketCap</th>\n    </tr>\n  </thead>\n  <tbody>\n    <tr>\n      <th>0</th>\n      <td>UA</td>\n      <td>2020-09-21</td>\n      <td>4.249B</td>\n    </tr>\n    <tr>\n      <th>1</th>\n      <td>UA</td>\n      <td>2020-09-18</td>\n      <td>4.572B</td>\n    </tr>\n    <tr>\n      <th>2</th>\n      <td>UA</td>\n      <td>2020-09-17</td>\n      <td>4.745B</td>\n    </tr>\n    <tr>\n      <th>3</th>\n      <td>UA</td>\n      <td>2020-09-16</td>\n      <td>4.863B</td>\n    </tr>\n    <tr>\n      <th>4</th>\n      <td>UA</td>\n      <td>2020-09-15</td>\n      <td>4.658B</td>\n    </tr>\n    <tr>\n      <th>5</th>\n      <td>UA</td>\n      <td>2020-09-14</td>\n      <td>4.681B</td>\n    </tr>\n    <tr>\n      <th>6</th>\n      <td>UA</td>\n      <td>2020-09-11</td>\n      <td>4.499B</td>\n    </tr>\n    <tr>\n      <th>7</th>\n      <td>UA</td>\n      <td>2020-09-10</td>\n      <td>4.309B</td>\n    </tr>\n    <tr>\n      <th>8</th>\n      <td>UA</td>\n      <td>2020-09-9</td>\n      <td>4.254B</td>\n    </tr>\n    <tr>\n      <th>9</th>\n      <td>UA</td>\n      <td>2020-09-8</td>\n      <td>4.427B</td>\n    </tr>\n    <tr>\n      <th>10</th>\n      <td>UA</td>\n      <td>2020-09-4</td>\n      <td>4.236B</td>\n    </tr>\n    <tr>\n      <th>11</th>\n      <td>UA</td>\n      <td>2020-09-3</td>\n      <td>4.263B</td>\n    </tr>\n    <tr>\n      <th>12</th>\n      <td>UA</td>\n      <td>2020-09-2</td>\n      <td>4.263B</td>\n    </tr>\n    <tr>\n      <th>13</th>\n      <td>UA</td>\n      <td>2020-09-1</td>\n      <td>4.168B</td>\n    </tr>\n    <tr>\n      <th>14</th>\n      <td>UA</td>\n      <td>2020-08-31</td>\n      <td>4.022B</td>\n    </tr>\n    <tr>\n      <th>15</th>\n      <td>UA</td>\n      <td>2020-08-28</td>\n      <td>4.154B</td>\n    </tr>\n    <tr>\n      <th>16</th>\n      <td>UA</td>\n      <td>2020-08-27</td>\n      <td>4.072B</td>\n    </tr>\n    <tr>\n      <th>17</th>\n      <td>UA</td>\n      <td>2020-08-26</td>\n      <td>4.040B</td>\n    </tr>\n    <tr>\n      <th>18</th>\n      <td>UA</td>\n      <td>2020-08-25</td>\n      <td>4.140B</td>\n    </tr>\n    <tr>\n      <th>19</th>\n      <td>UA</td>\n      <td>2020-08-24</td>\n      <td>4.177B</td>\n    </tr>\n    <tr>\n      <th>20</th>\n      <td>UA</td>\n      <td>2020-08-21</td>\n      <td>3.986B</td>\n    </tr>\n    <tr>\n      <th>21</th>\n      <td>UA</td>\n      <td>2020-08-20</td>\n      <td>3.995B</td>\n    </tr>\n    <tr>\n      <th>22</th>\n      <td>UA</td>\n      <td>2020-08-19</td>\n      <td>4.099B</td>\n    </tr>\n    <tr>\n      <th>23</th>\n      <td>UA</td>\n      <td>2020-08-18</td>\n      <td>4.195B</td>\n    </tr>\n    <tr>\n      <th>24</th>\n      <td>UA</td>\n      <td>2020-08-17</td>\n      <td>4.277B</td>\n    </tr>\n    <tr>\n      <th>25</th>\n      <td>UA</td>\n      <td>2020-08-14</td>\n      <td>4.363B</td>\n    </tr>\n    <tr>\n      <th>26</th>\n      <td>UA</td>\n      <td>2020-08-13</td>\n      <td>4.390B</td>\n    </tr>\n    <tr>\n      <th>27</th>\n      <td>UA</td>\n      <td>2020-08-12</td>\n      <td>4.440B</td>\n    </tr>\n    <tr>\n      <th>28</th>\n      <td>UA</td>\n      <td>2020-08-11</td>\n      <td>4.454B</td>\n    </tr>\n    <tr>\n      <th>29</th>\n      <td>UA</td>\n      <td>2020-08-10</td>\n      <td>4.363B</td>\n    </tr>\n    <tr>\n      <th>30</th>\n      <td>UA</td>\n      <td>2020-08-7</td>\n      <td>4.181B</td>\n    </tr>\n    <tr>\n      <th>31</th>\n      <td>UA</td>\n      <td>2020-08-6</td>\n      <td>4.109B</td>\n    </tr>\n    <tr>\n      <th>32</th>\n      <td>UA</td>\n      <td>2020-08-5</td>\n      <td>4.290B</td>\n    </tr>\n    <tr>\n      <th>33</th>\n      <td>UA</td>\n      <td>2020-08-4</td>\n      <td>4.063B</td>\n    </tr>\n    <tr>\n      <th>34</th>\n      <td>UA</td>\n      <td>2020-08-3</td>\n      <td>3.995B</td>\n    </tr>\n    <tr>\n      <th>35</th>\n      <td>UA</td>\n      <td>2020-07-31</td>\n      <td>4.313B</td>\n    </tr>\n    <tr>\n      <th>36</th>\n      <td>UA</td>\n      <td>2020-07-30</td>\n      <td>4.624B</td>\n    </tr>\n    <tr>\n      <th>37</th>\n      <td>UA</td>\n      <td>2020-07-29</td>\n      <td>4.693B</td>\n    </tr>\n    <tr>\n      <th>38</th>\n      <td>UA</td>\n      <td>2020-07-28</td>\n      <td>4.556B</td>\n    </tr>\n    <tr>\n      <th>39</th>\n      <td>UA</td>\n      <td>2020-07-27</td>\n      <td>4.520B</td>\n    </tr>\n    <tr>\n      <th>40</th>\n      <td>UA</td>\n      <td>2020-07-24</td>\n      <td>4.465B</td>\n    </tr>\n    <tr>\n      <th>41</th>\n      <td>UA</td>\n      <td>2020-07-23</td>\n      <td>4.443B</td>\n    </tr>\n    <tr>\n      <th>42</th>\n      <td>UA</td>\n      <td>2020-07-22</td>\n      <td>4.279B</td>\n    </tr>\n    <tr>\n      <th>43</th>\n      <td>UA</td>\n      <td>2020-07-21</td>\n      <td>4.288B</td>\n    </tr>\n    <tr>\n      <th>44</th>\n      <td>UA</td>\n      <td>2020-07-20</td>\n      <td>4.007B</td>\n    </tr>\n    <tr>\n      <th>45</th>\n      <td>UA</td>\n      <td>2020-07-17</td>\n      <td>4.147B</td>\n    </tr>\n    <tr>\n      <th>46</th>\n      <td>UA</td>\n      <td>2020-07-16</td>\n      <td>4.175B</td>\n    </tr>\n    <tr>\n      <th>47</th>\n      <td>UA</td>\n      <td>2020-07-15</td>\n      <td>4.170B</td>\n    </tr>\n    <tr>\n      <th>48</th>\n      <td>UA</td>\n      <td>2020-07-14</td>\n      <td>3.857B</td>\n    </tr>\n    <tr>\n      <th>49</th>\n      <td>UA</td>\n      <td>2020-07-13</td>\n      <td>3.843B</td>\n    </tr>\n    <tr>\n      <th>50</th>\n      <td>UA</td>\n      <td>2020-07-10</td>\n      <td>3.920B</td>\n    </tr>\n  </tbody>\n</table>\n</div>"
     },
     "metadata": {},
     "execution_count": 97
    }
   ],
   "source": [
    "df = pd.DataFrame(data=d)\n",
    "df"
   ]
  },
  {
   "cell_type": "code",
   "execution_count": null,
   "metadata": {},
   "outputs": [],
   "source": []
  }
 ],
 "metadata": {
  "kernelspec": {
   "display_name": "Python 3.8.5 64-bit",
   "language": "python",
   "name": "python_defaultSpec_1600634955303"
  },
  "language_info": {
   "codemirror_mode": {
    "name": "ipython",
    "version": 3
   },
   "file_extension": ".py",
   "mimetype": "text/x-python",
   "name": "python",
   "nbconvert_exporter": "python",
   "pygments_lexer": "ipython3",
   "version": "3.8.5-final"
  }
 },
 "nbformat": 4,
 "nbformat_minor": 4
}